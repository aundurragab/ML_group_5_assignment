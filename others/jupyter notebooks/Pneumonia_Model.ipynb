{
 "cells": [
  {
   "cell_type": "markdown",
   "id": "ed431529-b6ba-4c59-b687-8dd9982f434e",
   "metadata": {},
   "source": [
    "# **Pneumopnia - Prediction Model**"
   ]
  },
  {
   "cell_type": "code",
   "execution_count": 2,
   "id": "9074eaf4-0226-44de-9745-78857bcf34db",
   "metadata": {},
   "outputs": [],
   "source": [
    "#!pip install -U keras-tuner"
   ]
  },
  {
   "cell_type": "code",
   "execution_count": 4,
   "id": "e5b21797-2ce8-400f-a24a-74da647b7c06",
   "metadata": {
    "collapsed": true,
    "jupyter": {
     "outputs_hidden": true
    },
    "tags": []
   },
   "outputs": [
    {
     "name": "stdout",
     "output_type": "stream",
     "text": [
      "Collecting tensorflow\n",
      "  Downloading tensorflow-2.14.0-cp310-cp310-win_amd64.whl (2.1 kB)\n",
      "Collecting tensorflow-intel==2.14.0\n",
      "  Downloading tensorflow_intel-2.14.0-cp310-cp310-win_amd64.whl (284.1 MB)\n",
      "     -------------------------------------- 284.1/284.1 MB 3.4 MB/s eta 0:00:00\n",
      "Requirement already satisfied: h5py>=2.9.0 in c:\\users\\fhuer\\anaconda3\\lib\\site-packages (from tensorflow-intel==2.14.0->tensorflow) (3.7.0)\n",
      "Collecting tensorboard<2.15,>=2.14\n",
      "  Downloading tensorboard-2.14.1-py3-none-any.whl (5.5 MB)\n",
      "     ---------------------------------------- 5.5/5.5 MB 7.3 MB/s eta 0:00:00\n",
      "Requirement already satisfied: typing-extensions>=3.6.6 in c:\\users\\fhuer\\anaconda3\\lib\\site-packages (from tensorflow-intel==2.14.0->tensorflow) (4.4.0)\n",
      "Requirement already satisfied: setuptools in c:\\users\\fhuer\\anaconda3\\lib\\site-packages (from tensorflow-intel==2.14.0->tensorflow) (65.6.3)\n",
      "Collecting google-pasta>=0.1.1\n",
      "  Downloading google_pasta-0.2.0-py3-none-any.whl (57 kB)\n",
      "     ---------------------------------------- 57.5/57.5 kB 3.0 MB/s eta 0:00:00\n",
      "Collecting grpcio<2.0,>=1.24.3\n",
      "  Downloading grpcio-1.59.2-cp310-cp310-win_amd64.whl (3.7 MB)\n",
      "     ---------------------------------------- 3.7/3.7 MB 12.3 MB/s eta 0:00:00\n",
      "Collecting opt-einsum>=2.3.2\n",
      "  Downloading opt_einsum-3.3.0-py3-none-any.whl (65 kB)\n",
      "     ---------------------------------------- 65.5/65.5 kB 3.5 MB/s eta 0:00:00\n",
      "Collecting astunparse>=1.6.0\n",
      "  Downloading astunparse-1.6.3-py2.py3-none-any.whl (12 kB)\n",
      "Collecting libclang>=13.0.0\n",
      "  Downloading libclang-16.0.6-py2.py3-none-win_amd64.whl (24.4 MB)\n",
      "     ---------------------------------------- 24.4/24.4 MB 7.9 MB/s eta 0:00:00\n",
      "Requirement already satisfied: numpy>=1.23.5 in c:\\users\\fhuer\\anaconda3\\lib\\site-packages (from tensorflow-intel==2.14.0->tensorflow) (1.23.5)\n",
      "Collecting termcolor>=1.1.0\n",
      "  Downloading termcolor-2.3.0-py3-none-any.whl (6.9 kB)\n",
      "Collecting protobuf!=4.21.0,!=4.21.1,!=4.21.2,!=4.21.3,!=4.21.4,!=4.21.5,<5.0.0dev,>=3.20.3\n",
      "  Downloading protobuf-4.24.4-cp310-abi3-win_amd64.whl (430 kB)\n",
      "     -------------------------------------- 430.5/430.5 kB 6.7 MB/s eta 0:00:00\n",
      "Requirement already satisfied: wrapt<1.15,>=1.11.0 in c:\\users\\fhuer\\anaconda3\\lib\\site-packages (from tensorflow-intel==2.14.0->tensorflow) (1.14.1)\n",
      "Collecting tensorflow-estimator<2.15,>=2.14.0\n",
      "  Downloading tensorflow_estimator-2.14.0-py2.py3-none-any.whl (440 kB)\n",
      "     ------------------------------------- 440.7/440.7 kB 13.9 MB/s eta 0:00:00\n",
      "Collecting flatbuffers>=23.5.26\n",
      "  Downloading flatbuffers-23.5.26-py2.py3-none-any.whl (26 kB)\n",
      "Collecting keras<2.15,>=2.14.0\n",
      "  Downloading keras-2.14.0-py3-none-any.whl (1.7 MB)\n",
      "     ---------------------------------------- 1.7/1.7 MB 8.4 MB/s eta 0:00:00\n",
      "Collecting ml-dtypes==0.2.0\n",
      "  Downloading ml_dtypes-0.2.0-cp310-cp310-win_amd64.whl (938 kB)\n",
      "     -------------------------------------- 938.6/938.6 kB 6.0 MB/s eta 0:00:00\n",
      "Requirement already satisfied: absl-py>=1.0.0 in c:\\users\\fhuer\\anaconda3\\lib\\site-packages (from tensorflow-intel==2.14.0->tensorflow) (2.0.0)\n",
      "Collecting tensorflow-io-gcs-filesystem>=0.23.1\n",
      "  Downloading tensorflow_io_gcs_filesystem-0.31.0-cp310-cp310-win_amd64.whl (1.5 MB)\n",
      "     ---------------------------------------- 1.5/1.5 MB 5.9 MB/s eta 0:00:00\n",
      "Collecting gast!=0.5.0,!=0.5.1,!=0.5.2,>=0.2.1\n",
      "  Downloading gast-0.5.4-py3-none-any.whl (19 kB)\n",
      "Requirement already satisfied: packaging in c:\\users\\fhuer\\anaconda3\\lib\\site-packages (from tensorflow-intel==2.14.0->tensorflow) (22.0)\n",
      "Requirement already satisfied: six>=1.12.0 in c:\\users\\fhuer\\appdata\\roaming\\python\\python310\\site-packages (from tensorflow-intel==2.14.0->tensorflow) (1.16.0)\n",
      "Requirement already satisfied: wheel<1.0,>=0.23.0 in c:\\users\\fhuer\\anaconda3\\lib\\site-packages (from astunparse>=1.6.0->tensorflow-intel==2.14.0->tensorflow) (0.38.4)\n",
      "Requirement already satisfied: markdown>=2.6.8 in c:\\users\\fhuer\\anaconda3\\lib\\site-packages (from tensorboard<2.15,>=2.14->tensorflow-intel==2.14.0->tensorflow) (3.4.1)\n",
      "Collecting google-auth<3,>=1.6.3\n",
      "  Downloading google_auth-2.23.4-py2.py3-none-any.whl (183 kB)\n",
      "     -------------------------------------- 183.3/183.3 kB 5.6 MB/s eta 0:00:00\n",
      "Collecting google-auth-oauthlib<1.1,>=0.5\n",
      "  Downloading google_auth_oauthlib-1.0.0-py2.py3-none-any.whl (18 kB)\n",
      "Requirement already satisfied: werkzeug>=1.0.1 in c:\\users\\fhuer\\anaconda3\\lib\\site-packages (from tensorboard<2.15,>=2.14->tensorflow-intel==2.14.0->tensorflow) (2.2.2)\n",
      "Requirement already satisfied: requests<3,>=2.21.0 in c:\\users\\fhuer\\anaconda3\\lib\\site-packages (from tensorboard<2.15,>=2.14->tensorflow-intel==2.14.0->tensorflow) (2.31.0)\n",
      "Collecting tensorboard-data-server<0.8.0,>=0.7.0\n",
      "  Downloading tensorboard_data_server-0.7.2-py3-none-any.whl (2.4 kB)\n",
      "Collecting cachetools<6.0,>=2.0.0\n",
      "  Downloading cachetools-5.3.2-py3-none-any.whl (9.3 kB)\n",
      "Requirement already satisfied: pyasn1-modules>=0.2.1 in c:\\users\\fhuer\\anaconda3\\lib\\site-packages (from google-auth<3,>=1.6.3->tensorboard<2.15,>=2.14->tensorflow-intel==2.14.0->tensorflow) (0.2.8)\n",
      "Collecting rsa<5,>=3.1.4\n",
      "  Downloading rsa-4.9-py3-none-any.whl (34 kB)\n",
      "Collecting requests-oauthlib>=0.7.0\n",
      "  Downloading requests_oauthlib-1.3.1-py2.py3-none-any.whl (23 kB)\n",
      "Requirement already satisfied: idna<4,>=2.5 in c:\\users\\fhuer\\anaconda3\\lib\\site-packages (from requests<3,>=2.21.0->tensorboard<2.15,>=2.14->tensorflow-intel==2.14.0->tensorflow) (3.4)\n",
      "Requirement already satisfied: certifi>=2017.4.17 in c:\\users\\fhuer\\anaconda3\\lib\\site-packages (from requests<3,>=2.21.0->tensorboard<2.15,>=2.14->tensorflow-intel==2.14.0->tensorflow) (2023.5.7)\n",
      "Requirement already satisfied: urllib3<3,>=1.21.1 in c:\\users\\fhuer\\anaconda3\\lib\\site-packages (from requests<3,>=2.21.0->tensorboard<2.15,>=2.14->tensorflow-intel==2.14.0->tensorflow) (1.26.14)\n",
      "Requirement already satisfied: charset-normalizer<4,>=2 in c:\\users\\fhuer\\anaconda3\\lib\\site-packages (from requests<3,>=2.21.0->tensorboard<2.15,>=2.14->tensorflow-intel==2.14.0->tensorflow) (2.0.4)\n",
      "Requirement already satisfied: MarkupSafe>=2.1.1 in c:\\users\\fhuer\\anaconda3\\lib\\site-packages (from werkzeug>=1.0.1->tensorboard<2.15,>=2.14->tensorflow-intel==2.14.0->tensorflow) (2.1.1)\n",
      "Requirement already satisfied: pyasn1<0.5.0,>=0.4.6 in c:\\users\\fhuer\\anaconda3\\lib\\site-packages (from pyasn1-modules>=0.2.1->google-auth<3,>=1.6.3->tensorboard<2.15,>=2.14->tensorflow-intel==2.14.0->tensorflow) (0.4.8)\n",
      "Collecting oauthlib>=3.0.0\n",
      "  Downloading oauthlib-3.2.2-py3-none-any.whl (151 kB)\n",
      "     -------------------------------------- 151.7/151.7 kB 8.8 MB/s eta 0:00:00\n",
      "Installing collected packages: libclang, flatbuffers, termcolor, tensorflow-io-gcs-filesystem, tensorflow-estimator, tensorboard-data-server, rsa, protobuf, opt-einsum, oauthlib, ml-dtypes, keras, grpcio, google-pasta, gast, cachetools, astunparse, requests-oauthlib, google-auth, google-auth-oauthlib, tensorboard, tensorflow-intel, tensorflow\n",
      "Successfully installed astunparse-1.6.3 cachetools-5.3.2 flatbuffers-23.5.26 gast-0.5.4 google-auth-2.23.4 google-auth-oauthlib-1.0.0 google-pasta-0.2.0 grpcio-1.59.2 keras-2.14.0 libclang-16.0.6 ml-dtypes-0.2.0 oauthlib-3.2.2 opt-einsum-3.3.0 protobuf-4.24.4 requests-oauthlib-1.3.1 rsa-4.9 tensorboard-2.14.1 tensorboard-data-server-0.7.2 tensorflow-2.14.0 tensorflow-estimator-2.14.0 tensorflow-intel-2.14.0 tensorflow-io-gcs-filesystem-0.31.0 termcolor-2.3.0\n"
     ]
    }
   ],
   "source": [
    "#!pip install tensorflow"
   ]
  },
  {
   "cell_type": "code",
   "execution_count": 5,
   "id": "b4b42844-b874-4b6f-81ca-1b1c63a43db7",
   "metadata": {},
   "outputs": [],
   "source": [
    "import tensorflow as tf\n",
    "from tensorflow.keras.preprocessing.image import ImageDataGenerator\n",
    "from tensorflow.keras.models import Sequential\n",
    "from tensorflow.keras.layers import Conv2D, MaxPooling2D\n",
    "from tensorflow.keras.layers import Activation, Dropout, Flatten, Dense"
   ]
  },
  {
   "cell_type": "code",
   "execution_count": 6,
   "id": "3c57a34d-a042-4834-b3bf-37f81533060d",
   "metadata": {},
   "outputs": [
    {
     "name": "stdout",
     "output_type": "stream",
     "text": [
      "Found 5216 images belonging to 2 classes.\n",
      "Found 16 images belonging to 2 classes.\n",
      "Found 624 images belonging to 2 classes.\n"
     ]
    }
   ],
   "source": [
    "train_datagen = ImageDataGenerator(\n",
    "    rescale=1./255,\n",
    "    shear_range=0.2,\n",
    "    zoom_range=0.2,\n",
    "    horizontal_flip=True\n",
    ")\n",
    "\n",
    "val_datagen = ImageDataGenerator(rescale=1./255)\n",
    "test_datagen = ImageDataGenerator(rescale=1./255)\n",
    "\n",
    "train_generator = train_datagen.flow_from_directory(\n",
    "    'chest_xray/train',\n",
    "    target_size=(128, 128),\n",
    "    batch_size=32,\n",
    "    color_mode='grayscale',\n",
    "    class_mode='binary'\n",
    ")\n",
    "\n",
    "validation_generator = val_datagen.flow_from_directory(\n",
    "    'chest_xray/val',\n",
    "    target_size=(128, 128),\n",
    "    batch_size=32,\n",
    "    color_mode='grayscale',\n",
    "    class_mode='binary'\n",
    ")\n",
    "\n",
    "test_generator = test_datagen.flow_from_directory(\n",
    "    'chest_xray/test',\n",
    "    target_size=(128, 128),\n",
    "    batch_size=32,\n",
    "    color_mode='grayscale',\n",
    "    class_mode='binary',\n",
    "    shuffle=False\n",
    ")"
   ]
  },
  {
   "cell_type": "code",
   "execution_count": 7,
   "id": "689e36ff-0399-4d66-85f1-2badc73e2e56",
   "metadata": {},
   "outputs": [],
   "source": [
    "model = Sequential()\n",
    "\n",
    "model.add(Conv2D(32, (3, 3), input_shape=(128, 128, 1)))\n",
    "model.add(Activation('relu'))\n",
    "model.add(MaxPooling2D(pool_size=(2, 2)))\n",
    "\n",
    "model.add(Conv2D(32, (3, 3)))\n",
    "model.add(Activation('relu'))\n",
    "model.add(MaxPooling2D(pool_size=(2, 2)))\n",
    "\n",
    "model.add(Conv2D(64, (3, 3)))\n",
    "model.add(Activation('relu'))\n",
    "model.add(MaxPooling2D(pool_size=(2, 2)))\n",
    "\n",
    "model.add(Flatten())\n",
    "model.add(Dense(64))\n",
    "model.add(Activation('relu'))\n",
    "model.add(Dropout(0.5))\n",
    "model.add(Dense(1))\n",
    "model.add(Activation('sigmoid'))\n",
    "\n",
    "model.compile(loss='binary_crossentropy',\n",
    "              optimizer='adam',\n",
    "              metrics=['accuracy'])"
   ]
  },
  {
   "cell_type": "code",
   "execution_count": 19,
   "id": "80599126-6f79-4085-8f4d-140fa022b893",
   "metadata": {
    "tags": []
   },
   "outputs": [
    {
     "name": "stdout",
     "output_type": "stream",
     "text": [
      "Epoch 1/30\n",
      "62/62 [==============================] - ETA: 0s - loss: 0.0675 - accuracy: 0.9748WARNING:tensorflow:Your input ran out of data; interrupting training. Make sure that your dataset or generator can generate at least `steps_per_epoch * epochs` batches (in this case, 2 batches). You may need to use the repeat() function when building your dataset.\n",
      "62/62 [==============================] - 68s 1s/step - loss: 0.0675 - accuracy: 0.9748 - val_loss: 0.1217 - val_accuracy: 1.0000\n",
      "Epoch 2/30\n",
      "62/62 [==============================] - 65s 1s/step - loss: 0.0605 - accuracy: 0.9788\n",
      "Epoch 3/30\n",
      "62/62 [==============================] - 68s 1s/step - loss: 0.0661 - accuracy: 0.9778\n",
      "Epoch 4/30\n",
      "62/62 [==============================] - 67s 1s/step - loss: 0.0689 - accuracy: 0.9723\n",
      "Epoch 5/30\n",
      "62/62 [==============================] - 62s 1s/step - loss: 0.0645 - accuracy: 0.9753\n",
      "Epoch 6/30\n",
      "62/62 [==============================] - 67s 1s/step - loss: 0.0723 - accuracy: 0.9728\n",
      "Epoch 7/30\n",
      "62/62 [==============================] - 68s 1s/step - loss: 0.0655 - accuracy: 0.9738\n",
      "Epoch 8/30\n",
      "62/62 [==============================] - 71s 1s/step - loss: 0.0711 - accuracy: 0.9698\n",
      "Epoch 9/30\n",
      "62/62 [==============================] - 68s 1s/step - loss: 0.0696 - accuracy: 0.9743\n",
      "Epoch 10/30\n",
      "62/62 [==============================] - 66s 1s/step - loss: 0.0697 - accuracy: 0.9748\n",
      "Epoch 11/30\n",
      "62/62 [==============================] - 69s 1s/step - loss: 0.0649 - accuracy: 0.9758\n",
      "Epoch 12/30\n",
      "62/62 [==============================] - 67s 1s/step - loss: 0.0848 - accuracy: 0.9708\n",
      "Epoch 13/30\n",
      "62/62 [==============================] - 67s 1s/step - loss: 0.0676 - accuracy: 0.9793\n",
      "Epoch 14/30\n",
      "62/62 [==============================] - 65s 1s/step - loss: 0.0702 - accuracy: 0.9778\n",
      "Epoch 15/30\n",
      "62/62 [==============================] - 63s 1s/step - loss: 0.0681 - accuracy: 0.9773\n",
      "Epoch 16/30\n",
      "62/62 [==============================] - 231s 4s/step - loss: 0.0577 - accuracy: 0.9768\n",
      "Epoch 17/30\n",
      "62/62 [==============================] - 62s 991ms/step - loss: 0.0676 - accuracy: 0.9788\n",
      "Epoch 18/30\n",
      "62/62 [==============================] - 65s 1s/step - loss: 0.0628 - accuracy: 0.9788\n",
      "Epoch 19/30\n",
      "62/62 [==============================] - 62s 1s/step - loss: 0.0652 - accuracy: 0.9773\n",
      "Epoch 20/30\n",
      "62/62 [==============================] - 67s 1s/step - loss: 0.0700 - accuracy: 0.9748\n",
      "Epoch 21/30\n",
      "62/62 [==============================] - 63s 1s/step - loss: 0.0555 - accuracy: 0.9814\n",
      "Epoch 22/30\n",
      "62/62 [==============================] - 70s 1s/step - loss: 0.0686 - accuracy: 0.9748\n",
      "Epoch 23/30\n",
      "62/62 [==============================] - 69s 1s/step - loss: 0.0537 - accuracy: 0.9793\n",
      "Epoch 24/30\n",
      "62/62 [==============================] - 65s 1s/step - loss: 0.0527 - accuracy: 0.9793\n",
      "Epoch 25/30\n",
      "62/62 [==============================] - 68s 1s/step - loss: 0.0715 - accuracy: 0.9743\n",
      "Epoch 26/30\n",
      "62/62 [==============================] - 68s 1s/step - loss: 0.0629 - accuracy: 0.9783\n",
      "Epoch 27/30\n",
      "62/62 [==============================] - 68s 1s/step - loss: 0.0696 - accuracy: 0.9743\n",
      "Epoch 28/30\n",
      "62/62 [==============================] - 64s 1s/step - loss: 0.0571 - accuracy: 0.9803\n",
      "Epoch 29/30\n",
      "62/62 [==============================] - 70s 1s/step - loss: 0.0622 - accuracy: 0.9778\n",
      "Epoch 30/30\n",
      "62/62 [==============================] - 69s 1s/step - loss: 0.0617 - accuracy: 0.9793\n"
     ]
    },
    {
     "data": {
      "text/plain": [
       "<keras.src.callbacks.History at 0x26f333be710>"
      ]
     },
     "execution_count": 19,
     "metadata": {},
     "output_type": "execute_result"
    }
   ],
   "source": [
    "#Trainng the model with the train set and using the validation set as well.\n",
    "model.fit(\n",
    "    train_generator,\n",
    "    steps_per_epoch=2000 // 32,\n",
    "    epochs=30,\n",
    "    validation_data=validation_generator,\n",
    "    validation_steps=80 // 32\n",
    ")\n"
   ]
  },
  {
   "cell_type": "code",
   "execution_count": 20,
   "id": "61f8221b-2930-4b2d-9b6b-527b64b0bd09",
   "metadata": {},
   "outputs": [
    {
     "name": "stdout",
     "output_type": "stream",
     "text": [
      "19/19 [==============================] - 13s 651ms/step - loss: 0.5218 - accuracy: 0.9161\n",
      "Test Loss: 0.5218360424041748\n",
      "Test Accuracy: 0.9161184430122375\n"
     ]
    }
   ],
   "source": [
    "# Evaluate the model on the test data\n",
    "eval_result = model.evaluate(test_generator, steps=test_generator.samples // test_generator.batch_size)\n",
    "print(\"Test Loss:\", eval_result[0])\n",
    "print(\"Test Accuracy:\", eval_result[1])"
   ]
  },
  {
   "cell_type": "code",
   "execution_count": 22,
   "id": "49c89d46-b929-4336-9306-09bb087b526c",
   "metadata": {
    "collapsed": true,
    "jupyter": {
     "outputs_hidden": true
    },
    "tags": []
   },
   "outputs": [
    {
     "name": "stdout",
     "output_type": "stream",
     "text": [
      "Collecting streamlit\n",
      "  Downloading streamlit-1.28.0-py2.py3-none-any.whl (8.4 MB)\n",
      "     ---------------------------------------- 8.4/8.4 MB 9.3 MB/s eta 0:00:00\n",
      "Requirement already satisfied: importlib-metadata<7,>=1.4 in c:\\users\\fhuer\\anaconda3\\lib\\site-packages (from streamlit) (4.11.3)\n",
      "Collecting gitpython!=3.1.19,<4,>=3.0.7\n",
      "  Downloading GitPython-3.1.40-py3-none-any.whl (190 kB)\n",
      "     ------------------------------------- 190.6/190.6 kB 12.0 MB/s eta 0:00:00\n",
      "Requirement already satisfied: watchdog>=2.1.5 in c:\\users\\fhuer\\anaconda3\\lib\\site-packages (from streamlit) (2.1.6)\n",
      "Requirement already satisfied: numpy<2,>=1.19.3 in c:\\users\\fhuer\\anaconda3\\lib\\site-packages (from streamlit) (1.23.5)\n",
      "Requirement already satisfied: cachetools<6,>=4.0 in c:\\users\\fhuer\\anaconda3\\lib\\site-packages (from streamlit) (5.3.2)\n",
      "Requirement already satisfied: toml<2,>=0.10.1 in c:\\users\\fhuer\\anaconda3\\lib\\site-packages (from streamlit) (0.10.2)\n",
      "Requirement already satisfied: pillow<11,>=7.1.0 in c:\\users\\fhuer\\anaconda3\\lib\\site-packages (from streamlit) (9.4.0)\n",
      "Requirement already satisfied: packaging<24,>=16.8 in c:\\users\\fhuer\\anaconda3\\lib\\site-packages (from streamlit) (22.0)\n",
      "Collecting tzlocal<6,>=1.1\n",
      "  Downloading tzlocal-5.2-py3-none-any.whl (17 kB)\n",
      "Collecting validators<1,>=0.2\n",
      "  Using cached validators-0.22.0-py3-none-any.whl (26 kB)\n",
      "Requirement already satisfied: protobuf<5,>=3.20 in c:\\users\\fhuer\\anaconda3\\lib\\site-packages (from streamlit) (4.24.4)\n",
      "Collecting pyarrow>=6.0\n",
      "  Downloading pyarrow-14.0.0-cp310-cp310-win_amd64.whl (24.6 MB)\n",
      "     ---------------------------------------- 24.6/24.6 MB 6.5 MB/s eta 0:00:00\n",
      "Requirement already satisfied: click<9,>=7.0 in c:\\users\\fhuer\\anaconda3\\lib\\site-packages (from streamlit) (8.0.4)\n",
      "Collecting altair<6,>=4.0\n",
      "  Downloading altair-5.1.2-py3-none-any.whl (516 kB)\n",
      "     ------------------------------------ 516.2/516.2 kB 952.8 kB/s eta 0:00:00\n",
      "Collecting blinker<2,>=1.0.0\n",
      "  Downloading blinker-1.7.0-py3-none-any.whl (13 kB)\n",
      "Collecting tenacity<9,>=8.1.0\n",
      "  Using cached tenacity-8.2.3-py3-none-any.whl (24 kB)\n",
      "Requirement already satisfied: requests<3,>=2.27 in c:\\users\\fhuer\\anaconda3\\lib\\site-packages (from streamlit) (2.31.0)\n",
      "Requirement already satisfied: python-dateutil<3,>=2.7.3 in c:\\users\\fhuer\\appdata\\roaming\\python\\python310\\site-packages (from streamlit) (2.8.2)\n",
      "Requirement already satisfied: tornado<7,>=6.0.3 in c:\\users\\fhuer\\appdata\\roaming\\python\\python310\\site-packages (from streamlit) (6.2)\n",
      "Requirement already satisfied: pandas<3,>=1.3.0 in c:\\users\\fhuer\\anaconda3\\lib\\site-packages (from streamlit) (1.5.3)\n",
      "Collecting pydeck<1,>=0.8.0b4\n",
      "  Downloading pydeck-0.8.1b0-py2.py3-none-any.whl (4.8 MB)\n",
      "     ---------------------------------------- 4.8/4.8 MB 6.5 MB/s eta 0:00:00\n",
      "Requirement already satisfied: typing-extensions<5,>=4.3.0 in c:\\users\\fhuer\\anaconda3\\lib\\site-packages (from streamlit) (4.4.0)\n",
      "Requirement already satisfied: rich<14,>=10.14.0 in c:\\users\\fhuer\\anaconda3\\lib\\site-packages (from streamlit) (13.6.0)\n",
      "Requirement already satisfied: jsonschema>=3.0 in c:\\users\\fhuer\\anaconda3\\lib\\site-packages (from altair<6,>=4.0->streamlit) (4.17.3)\n",
      "Requirement already satisfied: toolz in c:\\users\\fhuer\\anaconda3\\lib\\site-packages (from altair<6,>=4.0->streamlit) (0.12.0)\n",
      "Requirement already satisfied: jinja2 in c:\\users\\fhuer\\anaconda3\\lib\\site-packages (from altair<6,>=4.0->streamlit) (3.1.2)\n",
      "Requirement already satisfied: colorama in c:\\users\\fhuer\\appdata\\roaming\\python\\python310\\site-packages (from click<9,>=7.0->streamlit) (0.4.6)\n",
      "Collecting gitdb<5,>=4.0.1\n",
      "  Downloading gitdb-4.0.11-py3-none-any.whl (62 kB)\n",
      "     ---------------------------------------- 62.7/62.7 kB ? eta 0:00:00\n",
      "Requirement already satisfied: zipp>=0.5 in c:\\users\\fhuer\\anaconda3\\lib\\site-packages (from importlib-metadata<7,>=1.4->streamlit) (3.11.0)\n",
      "Requirement already satisfied: pytz>=2020.1 in c:\\users\\fhuer\\anaconda3\\lib\\site-packages (from pandas<3,>=1.3.0->streamlit) (2022.7)\n",
      "Requirement already satisfied: six>=1.5 in c:\\users\\fhuer\\appdata\\roaming\\python\\python310\\site-packages (from python-dateutil<3,>=2.7.3->streamlit) (1.16.0)\n",
      "Requirement already satisfied: charset-normalizer<4,>=2 in c:\\users\\fhuer\\anaconda3\\lib\\site-packages (from requests<3,>=2.27->streamlit) (2.0.4)\n",
      "Requirement already satisfied: idna<4,>=2.5 in c:\\users\\fhuer\\anaconda3\\lib\\site-packages (from requests<3,>=2.27->streamlit) (3.4)\n",
      "Requirement already satisfied: certifi>=2017.4.17 in c:\\users\\fhuer\\anaconda3\\lib\\site-packages (from requests<3,>=2.27->streamlit) (2023.5.7)\n",
      "Requirement already satisfied: urllib3<3,>=1.21.1 in c:\\users\\fhuer\\anaconda3\\lib\\site-packages (from requests<3,>=2.27->streamlit) (1.26.14)\n",
      "Requirement already satisfied: pygments<3.0.0,>=2.13.0 in c:\\users\\fhuer\\appdata\\roaming\\python\\python310\\site-packages (from rich<14,>=10.14.0->streamlit) (2.15.0)\n",
      "Requirement already satisfied: markdown-it-py>=2.2.0 in c:\\users\\fhuer\\anaconda3\\lib\\site-packages (from rich<14,>=10.14.0->streamlit) (3.0.0)\n",
      "Collecting tzdata\n",
      "  Using cached tzdata-2023.3-py2.py3-none-any.whl (341 kB)\n",
      "Collecting smmap<6,>=3.0.1\n",
      "  Downloading smmap-5.0.1-py3-none-any.whl (24 kB)\n",
      "Requirement already satisfied: MarkupSafe>=2.0 in c:\\users\\fhuer\\anaconda3\\lib\\site-packages (from jinja2->altair<6,>=4.0->streamlit) (2.1.1)\n",
      "Requirement already satisfied: attrs>=17.4.0 in c:\\users\\fhuer\\anaconda3\\lib\\site-packages (from jsonschema>=3.0->altair<6,>=4.0->streamlit) (22.1.0)\n",
      "Requirement already satisfied: pyrsistent!=0.17.0,!=0.17.1,!=0.17.2,>=0.14.0 in c:\\users\\fhuer\\anaconda3\\lib\\site-packages (from jsonschema>=3.0->altair<6,>=4.0->streamlit) (0.18.0)\n",
      "Requirement already satisfied: mdurl~=0.1 in c:\\users\\fhuer\\anaconda3\\lib\\site-packages (from markdown-it-py>=2.2.0->rich<14,>=10.14.0->streamlit) (0.1.2)\n",
      "Installing collected packages: validators, tzdata, tenacity, smmap, pyarrow, blinker, tzlocal, pydeck, gitdb, gitpython, altair, streamlit\n",
      "  Attempting uninstall: tenacity\n",
      "    Found existing installation: tenacity 8.0.1\n",
      "    Uninstalling tenacity-8.0.1:\n",
      "      Successfully uninstalled tenacity-8.0.1\n",
      "Successfully installed altair-5.1.2 blinker-1.7.0 gitdb-4.0.11 gitpython-3.1.40 pyarrow-14.0.0 pydeck-0.8.1b0 smmap-5.0.1 streamlit-1.28.0 tenacity-8.2.3 tzdata-2023.3 tzlocal-5.2 validators-0.22.0\n",
      "Collecting streamlit\n",
      "  Using cached streamlit-1.28.0-py2.py3-none-any.whl (8.4 MB)\n",
      "Requirement already satisfied: tornado<7,>=6.0.3 in c:\\users\\fhuer\\appdata\\roaming\\python\\python310\\site-packages (from streamlit) (6.2)\n",
      "Requirement already satisfied: python-dateutil<3,>=2.7.3 in c:\\users\\fhuer\\appdata\\roaming\\python\\python310\\site-packages (from streamlit) (2.8.2)\n",
      "Requirement already satisfied: requests<3,>=2.27 in c:\\users\\fhuer\\anaconda3\\lib\\site-packages (from streamlit) (2.31.0)\n",
      "Requirement already satisfied: cachetools<6,>=4.0 in c:\\users\\fhuer\\anaconda3\\lib\\site-packages (from streamlit) (5.3.2)\n",
      "Requirement already satisfied: click<9,>=7.0 in c:\\users\\fhuer\\anaconda3\\lib\\site-packages (from streamlit) (8.0.4)\n",
      "Requirement already satisfied: protobuf<5,>=3.20 in c:\\users\\fhuer\\anaconda3\\lib\\site-packages (from streamlit) (4.24.4)\n",
      "Collecting tzlocal<6,>=1.1\n",
      "  Using cached tzlocal-5.2-py3-none-any.whl (17 kB)\n",
      "Collecting altair<6,>=4.0\n",
      "  Using cached altair-5.1.2-py3-none-any.whl (516 kB)\n",
      "Requirement already satisfied: numpy<2,>=1.19.3 in c:\\users\\fhuer\\anaconda3\\lib\\site-packages (from streamlit) (1.23.5)\n",
      "Requirement already satisfied: importlib-metadata<7,>=1.4 in c:\\users\\fhuer\\anaconda3\\lib\\site-packages (from streamlit) (4.11.3)\n",
      "Requirement already satisfied: watchdog>=2.1.5 in c:\\users\\fhuer\\anaconda3\\lib\\site-packages (from streamlit) (2.1.6)\n",
      "Requirement already satisfied: toml<2,>=0.10.1 in c:\\users\\fhuer\\anaconda3\\lib\\site-packages (from streamlit) (0.10.2)\n",
      "Requirement already satisfied: packaging<24,>=16.8 in c:\\users\\fhuer\\anaconda3\\lib\\site-packages (from streamlit) (22.0)\n",
      "Requirement already satisfied: pillow<11,>=7.1.0 in c:\\users\\fhuer\\anaconda3\\lib\\site-packages (from streamlit) (9.4.0)\n",
      "Requirement already satisfied: typing-extensions<5,>=4.3.0 in c:\\users\\fhuer\\anaconda3\\lib\\site-packages (from streamlit) (4.4.0)\n",
      "Collecting pydeck<1,>=0.8.0b4\n",
      "  Using cached pydeck-0.8.1b0-py2.py3-none-any.whl (4.8 MB)\n",
      "Collecting blinker<2,>=1.0.0\n",
      "  Using cached blinker-1.7.0-py3-none-any.whl (13 kB)\n",
      "Collecting tenacity<9,>=8.1.0\n",
      "  Using cached tenacity-8.2.3-py3-none-any.whl (24 kB)\n",
      "Collecting gitpython!=3.1.19,<4,>=3.0.7\n",
      "  Using cached GitPython-3.1.40-py3-none-any.whl (190 kB)\n",
      "Requirement already satisfied: rich<14,>=10.14.0 in c:\\users\\fhuer\\anaconda3\\lib\\site-packages (from streamlit) (13.6.0)\n",
      "Requirement already satisfied: pandas<3,>=1.3.0 in c:\\users\\fhuer\\anaconda3\\lib\\site-packages (from streamlit) (1.5.3)\n",
      "Collecting pyarrow>=6.0\n",
      "  Using cached pyarrow-14.0.0-cp310-cp310-win_amd64.whl (24.6 MB)\n",
      "Collecting validators<1,>=0.2\n",
      "  Using cached validators-0.22.0-py3-none-any.whl (26 kB)\n",
      "Requirement already satisfied: toolz in c:\\users\\fhuer\\anaconda3\\lib\\site-packages (from altair<6,>=4.0->streamlit) (0.12.0)\n",
      "Requirement already satisfied: jsonschema>=3.0 in c:\\users\\fhuer\\anaconda3\\lib\\site-packages (from altair<6,>=4.0->streamlit) (4.17.3)\n",
      "Requirement already satisfied: jinja2 in c:\\users\\fhuer\\anaconda3\\lib\\site-packages (from altair<6,>=4.0->streamlit) (3.1.2)\n",
      "Requirement already satisfied: colorama in c:\\users\\fhuer\\appdata\\roaming\\python\\python310\\site-packages (from click<9,>=7.0->streamlit) (0.4.6)\n",
      "Collecting gitdb<5,>=4.0.1\n",
      "  Using cached gitdb-4.0.11-py3-none-any.whl (62 kB)\n",
      "Requirement already satisfied: zipp>=0.5 in c:\\users\\fhuer\\anaconda3\\lib\\site-packages (from importlib-metadata<7,>=1.4->streamlit) (3.11.0)\n",
      "Requirement already satisfied: pytz>=2020.1 in c:\\users\\fhuer\\anaconda3\\lib\\site-packages (from pandas<3,>=1.3.0->streamlit) (2022.7)\n",
      "Requirement already satisfied: six>=1.5 in c:\\users\\fhuer\\appdata\\roaming\\python\\python310\\site-packages (from python-dateutil<3,>=2.7.3->streamlit) (1.16.0)\n",
      "Requirement already satisfied: charset-normalizer<4,>=2 in c:\\users\\fhuer\\anaconda3\\lib\\site-packages (from requests<3,>=2.27->streamlit) (2.0.4)\n",
      "Requirement already satisfied: idna<4,>=2.5 in c:\\users\\fhuer\\anaconda3\\lib\\site-packages (from requests<3,>=2.27->streamlit) (3.4)\n",
      "Requirement already satisfied: certifi>=2017.4.17 in c:\\users\\fhuer\\anaconda3\\lib\\site-packages (from requests<3,>=2.27->streamlit) (2023.5.7)\n",
      "Requirement already satisfied: urllib3<3,>=1.21.1 in c:\\users\\fhuer\\anaconda3\\lib\\site-packages (from requests<3,>=2.27->streamlit) (1.26.14)\n",
      "Requirement already satisfied: pygments<3.0.0,>=2.13.0 in c:\\users\\fhuer\\appdata\\roaming\\python\\python310\\site-packages (from rich<14,>=10.14.0->streamlit) (2.15.0)\n",
      "Requirement already satisfied: markdown-it-py>=2.2.0 in c:\\users\\fhuer\\anaconda3\\lib\\site-packages (from rich<14,>=10.14.0->streamlit) (3.0.0)\n",
      "Collecting tzdata\n",
      "  Using cached tzdata-2023.3-py2.py3-none-any.whl (341 kB)\n",
      "Collecting smmap<6,>=3.0.1\n",
      "  Using cached smmap-5.0.1-py3-none-any.whl (24 kB)\n",
      "Requirement already satisfied: MarkupSafe>=2.0 in c:\\users\\fhuer\\anaconda3\\lib\\site-packages (from jinja2->altair<6,>=4.0->streamlit) (2.1.1)\n",
      "Requirement already satisfied: attrs>=17.4.0 in c:\\users\\fhuer\\anaconda3\\lib\\site-packages (from jsonschema>=3.0->altair<6,>=4.0->streamlit) (22.1.0)\n",
      "Requirement already satisfied: pyrsistent!=0.17.0,!=0.17.1,!=0.17.2,>=0.14.0 in c:\\users\\fhuer\\anaconda3\\lib\\site-packages (from jsonschema>=3.0->altair<6,>=4.0->streamlit) (0.18.0)\n",
      "Requirement already satisfied: mdurl~=0.1 in c:\\users\\fhuer\\anaconda3\\lib\\site-packages (from markdown-it-py>=2.2.0->rich<14,>=10.14.0->streamlit) (0.1.2)\n",
      "Installing collected packages: validators, tzdata, tenacity, smmap, pyarrow, blinker, tzlocal, pydeck, gitdb, gitpython, altair, streamlit\n",
      "  Attempting uninstall: tenacity\n",
      "    Found existing installation: tenacity 8.0.1\n",
      "    Can't uninstall 'tenacity'. No files were found to uninstall.\n",
      "Successfully installed altair-5.1.2 blinker-1.7.0 gitdb-4.0.11 gitpython-3.1.40 pyarrow-14.0.0 pydeck-0.8.1b0 smmap-5.0.1 streamlit-1.28.0 tenacity-8.2.3 tzdata-2023.3 tzlocal-5.2 validators-0.22.0\n"
     ]
    },
    {
     "name": "stderr",
     "output_type": "stream",
     "text": [
      "    WARNING: No metadata found in c:\\users\\fhuer\\anaconda3\\lib\\site-packages\n"
     ]
    }
   ],
   "source": [
    "!pip install streamlit"
   ]
  },
  {
   "cell_type": "code",
   "execution_count": 23,
   "id": "e25f2843-acad-42e2-9fb6-1063888d11ae",
   "metadata": {},
   "outputs": [
    {
     "name": "stderr",
     "output_type": "stream",
     "text": [
      "C:\\Users\\fhuer\\anaconda3\\lib\\site-packages\\keras\\src\\engine\\training.py:3079: UserWarning: You are saving your model as an HDF5 file via `model.save()`. This file format is considered legacy. We recommend using instead the native Keras format, e.g. `model.save('my_model.keras')`.\n",
      "  saving_api.save_model(\n"
     ]
    }
   ],
   "source": [
    "model.save('pneumonia_model.h5')"
   ]
  }
 ],
 "metadata": {
  "kernelspec": {
   "display_name": "Python 3 (ipykernel)",
   "language": "python",
   "name": "python3"
  },
  "language_info": {
   "codemirror_mode": {
    "name": "ipython",
    "version": 3
   },
   "file_extension": ".py",
   "mimetype": "text/x-python",
   "name": "python",
   "nbconvert_exporter": "python",
   "pygments_lexer": "ipython3",
   "version": "3.10.13"
  }
 },
 "nbformat": 4,
 "nbformat_minor": 5
}
